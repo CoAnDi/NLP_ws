{
  "cells": [
    {
      "cell_type": "markdown",
      "metadata": {
        "id": "xqW8I0i1tvKG"
      },
      "source": [
        "# Escuela CoAnDi 30/08/2023\n",
        "## [Spacy](https://spacy.io)\n",
        "\n",
        "Notebook diseñado por C. Plancq (2021), actualizado por T. Poibeau y C. Brando"
      ]
    },
    {
      "cell_type": "markdown",
      "metadata": {
        "id": "AEfpYxVCtvKK"
      },
      "source": [
        "- Biblioteca de software de NLP escrita en Python\n",
        "- Etiquetado POS, lematización, análisis sintáctico, entidades con nombre, incrustación de palabras, transformadores\n",
        "- Uso de modelos neuronales\n",
        "- Fácil integración de bibliotecas de aprendizaje profundo\n",
        "- Licencia MIT (código abierto) para el código\n",
        "    - Varias licencias abiertas para los modelos\n",
        "- Producto de la empresa [explosion.ai](https://explosion.ai/). Fundada por : Matthew Honnibal ([@honnibal](https://twitter.com/honnibal)) e Ines Montani ([@_inesmontani](https://twitter.com/_inesmontani))"
      ]
    },
    {
      "cell_type": "markdown",
      "metadata": {
        "id": "HVYFDl3AtvKQ"
      },
      "source": [
        "## ¿Por qué Spacy?\n",
        "\n",
        "- Es Python 🙌🎉\n",
        "- Bastante fácil de aprender\n",
        "- Muy bien documentado. De hecho, en lugar de este cuaderno, sigue el excelente tutorial de Ines Montani: [https://course.spacy.io/](https://course.spacy.io/)\n",
        "- Cubre el procesamiento de una cadena típica de NLP\n",
        "- PERO no es necesariamente la herramienta que da los mejores resultados para lenguas como el francés o el espanol en todas las tareas de PLN."
      ]
    },
    {
      "cell_type": "markdown",
      "metadata": {
        "id": "nwhjNXnhtvKW"
      },
      "source": [
        "## Spacy et les autres\n",
        "\n",
        "Spacy es uno de los frameworks NLP disponibles\n",
        "\n",
        "- [NLTK](http://www.nltk.org/) : python, orientado a la pedagogía, no incluye modelos neuronales pero combina bien con TensorFlow, PyTorch o AlleNLP\n",
        "- [Stanford Core NLP](https://stanfordnlp.github.io/stanfordnlp/) : java, modelos para 53 idiomas (UD), resolución de anaforas.\n",
        "- [Stanza](https://stanfordnlp.github.io/stanza/) : python, nuevo framework Stanford, modelos neuronales entrenados con datos UD <small>[https://github.com/explosion/spacy-stanza](https://github.com/explosion/spacy-stanza) permite utilizar modelos Stanford con Spacy</small>\n",
        "- [flair](https://github.com/zalandoresearch/flair) : el framework Zalando, muy buenos resultados en el reconocimiento de entidades nombradas\n",
        "- [TextBlob](https://textblob.readthedocs.io/en/dev/)\n",
        "- [DKPro](https://dkpro.github.io/)\n"
      ]
    },
    {
      "cell_type": "markdown",
      "metadata": {
        "id": "O7zbj0nntvKY"
      },
      "source": [
        "## instalación\n"
      ]
    },
    {
      "cell_type": "code",
      "source": [
        "!pip install spacy"
      ],
      "metadata": {
        "colab": {
          "base_uri": "https://localhost:8080/"
        },
        "id": "YWQZ1XgEP-5c",
        "outputId": "1aca51b9-2c84-4de6-dfd4-37dd10f7e20a"
      },
      "execution_count": null,
      "outputs": [
        {
          "output_type": "stream",
          "name": "stdout",
          "text": [
            "Requirement already satisfied: spacy in /usr/local/lib/python3.10/dist-packages (3.6.1)\n",
            "Requirement already satisfied: spacy-legacy<3.1.0,>=3.0.11 in /usr/local/lib/python3.10/dist-packages (from spacy) (3.0.12)\n",
            "Requirement already satisfied: spacy-loggers<2.0.0,>=1.0.0 in /usr/local/lib/python3.10/dist-packages (from spacy) (1.0.4)\n",
            "Requirement already satisfied: murmurhash<1.1.0,>=0.28.0 in /usr/local/lib/python3.10/dist-packages (from spacy) (1.0.9)\n",
            "Requirement already satisfied: cymem<2.1.0,>=2.0.2 in /usr/local/lib/python3.10/dist-packages (from spacy) (2.0.7)\n",
            "Requirement already satisfied: preshed<3.1.0,>=3.0.2 in /usr/local/lib/python3.10/dist-packages (from spacy) (3.0.8)\n",
            "Requirement already satisfied: thinc<8.2.0,>=8.1.8 in /usr/local/lib/python3.10/dist-packages (from spacy) (8.1.12)\n",
            "Requirement already satisfied: wasabi<1.2.0,>=0.9.1 in /usr/local/lib/python3.10/dist-packages (from spacy) (1.1.2)\n",
            "Requirement already satisfied: srsly<3.0.0,>=2.4.3 in /usr/local/lib/python3.10/dist-packages (from spacy) (2.4.7)\n",
            "Requirement already satisfied: catalogue<2.1.0,>=2.0.6 in /usr/local/lib/python3.10/dist-packages (from spacy) (2.0.9)\n",
            "Requirement already satisfied: typer<0.10.0,>=0.3.0 in /usr/local/lib/python3.10/dist-packages (from spacy) (0.9.0)\n",
            "Requirement already satisfied: pathy>=0.10.0 in /usr/local/lib/python3.10/dist-packages (from spacy) (0.10.2)\n",
            "Requirement already satisfied: smart-open<7.0.0,>=5.2.1 in /usr/local/lib/python3.10/dist-packages (from spacy) (6.3.0)\n",
            "Requirement already satisfied: tqdm<5.0.0,>=4.38.0 in /usr/local/lib/python3.10/dist-packages (from spacy) (4.66.1)\n",
            "Requirement already satisfied: numpy>=1.15.0 in /usr/local/lib/python3.10/dist-packages (from spacy) (1.23.5)\n",
            "Requirement already satisfied: requests<3.0.0,>=2.13.0 in /usr/local/lib/python3.10/dist-packages (from spacy) (2.31.0)\n",
            "Requirement already satisfied: pydantic!=1.8,!=1.8.1,<3.0.0,>=1.7.4 in /usr/local/lib/python3.10/dist-packages (from spacy) (2.2.1)\n",
            "Requirement already satisfied: jinja2 in /usr/local/lib/python3.10/dist-packages (from spacy) (3.1.2)\n",
            "Requirement already satisfied: setuptools in /usr/local/lib/python3.10/dist-packages (from spacy) (67.7.2)\n",
            "Requirement already satisfied: packaging>=20.0 in /usr/local/lib/python3.10/dist-packages (from spacy) (23.1)\n",
            "Requirement already satisfied: langcodes<4.0.0,>=3.2.0 in /usr/local/lib/python3.10/dist-packages (from spacy) (3.3.0)\n",
            "Requirement already satisfied: annotated-types>=0.4.0 in /usr/local/lib/python3.10/dist-packages (from pydantic!=1.8,!=1.8.1,<3.0.0,>=1.7.4->spacy) (0.5.0)\n",
            "Requirement already satisfied: pydantic-core==2.6.1 in /usr/local/lib/python3.10/dist-packages (from pydantic!=1.8,!=1.8.1,<3.0.0,>=1.7.4->spacy) (2.6.1)\n",
            "Requirement already satisfied: typing-extensions>=4.6.1 in /usr/local/lib/python3.10/dist-packages (from pydantic!=1.8,!=1.8.1,<3.0.0,>=1.7.4->spacy) (4.7.1)\n",
            "Requirement already satisfied: charset-normalizer<4,>=2 in /usr/local/lib/python3.10/dist-packages (from requests<3.0.0,>=2.13.0->spacy) (3.2.0)\n",
            "Requirement already satisfied: idna<4,>=2.5 in /usr/local/lib/python3.10/dist-packages (from requests<3.0.0,>=2.13.0->spacy) (3.4)\n",
            "Requirement already satisfied: urllib3<3,>=1.21.1 in /usr/local/lib/python3.10/dist-packages (from requests<3.0.0,>=2.13.0->spacy) (2.0.4)\n",
            "Requirement already satisfied: certifi>=2017.4.17 in /usr/local/lib/python3.10/dist-packages (from requests<3.0.0,>=2.13.0->spacy) (2023.7.22)\n",
            "Requirement already satisfied: blis<0.8.0,>=0.7.8 in /usr/local/lib/python3.10/dist-packages (from thinc<8.2.0,>=8.1.8->spacy) (0.7.10)\n",
            "Requirement already satisfied: confection<1.0.0,>=0.0.1 in /usr/local/lib/python3.10/dist-packages (from thinc<8.2.0,>=8.1.8->spacy) (0.1.1)\n",
            "Requirement already satisfied: click<9.0.0,>=7.1.1 in /usr/local/lib/python3.10/dist-packages (from typer<0.10.0,>=0.3.0->spacy) (8.1.7)\n",
            "Requirement already satisfied: MarkupSafe>=2.0 in /usr/local/lib/python3.10/dist-packages (from jinja2->spacy) (2.1.3)\n"
          ]
        }
      ]
    },
    {
      "cell_type": "code",
      "source": [
        "!python -m spacy download es_core_news_md"
      ],
      "metadata": {
        "colab": {
          "base_uri": "https://localhost:8080/"
        },
        "id": "DtulYqJbQQEI",
        "outputId": "57caf9d1-d48b-4f59-cf6e-462c8ea4c019"
      },
      "execution_count": null,
      "outputs": [
        {
          "output_type": "stream",
          "name": "stdout",
          "text": [
            "2023-08-30 03:16:40.948625: W tensorflow/compiler/tf2tensorrt/utils/py_utils.cc:38] TF-TRT Warning: Could not find TensorRT\n",
            "Collecting es-core-news-md==3.6.0\n",
            "  Downloading https://github.com/explosion/spacy-models/releases/download/es_core_news_md-3.6.0/es_core_news_md-3.6.0-py3-none-any.whl (42.3 MB)\n",
            "\u001b[2K     \u001b[90m━━━━━━━━━━━━━━━━━━━━━━━━━━━━━━━━━━━━━━━━\u001b[0m \u001b[32m42.3/42.3 MB\u001b[0m \u001b[31m14.6 MB/s\u001b[0m eta \u001b[36m0:00:00\u001b[0m\n",
            "\u001b[?25hRequirement already satisfied: spacy<3.7.0,>=3.6.0 in /usr/local/lib/python3.10/dist-packages (from es-core-news-md==3.6.0) (3.6.1)\n",
            "Requirement already satisfied: spacy-legacy<3.1.0,>=3.0.11 in /usr/local/lib/python3.10/dist-packages (from spacy<3.7.0,>=3.6.0->es-core-news-md==3.6.0) (3.0.12)\n",
            "Requirement already satisfied: spacy-loggers<2.0.0,>=1.0.0 in /usr/local/lib/python3.10/dist-packages (from spacy<3.7.0,>=3.6.0->es-core-news-md==3.6.0) (1.0.4)\n",
            "Requirement already satisfied: murmurhash<1.1.0,>=0.28.0 in /usr/local/lib/python3.10/dist-packages (from spacy<3.7.0,>=3.6.0->es-core-news-md==3.6.0) (1.0.9)\n",
            "Requirement already satisfied: cymem<2.1.0,>=2.0.2 in /usr/local/lib/python3.10/dist-packages (from spacy<3.7.0,>=3.6.0->es-core-news-md==3.6.0) (2.0.7)\n",
            "Requirement already satisfied: preshed<3.1.0,>=3.0.2 in /usr/local/lib/python3.10/dist-packages (from spacy<3.7.0,>=3.6.0->es-core-news-md==3.6.0) (3.0.8)\n",
            "Requirement already satisfied: thinc<8.2.0,>=8.1.8 in /usr/local/lib/python3.10/dist-packages (from spacy<3.7.0,>=3.6.0->es-core-news-md==3.6.0) (8.1.12)\n",
            "Requirement already satisfied: wasabi<1.2.0,>=0.9.1 in /usr/local/lib/python3.10/dist-packages (from spacy<3.7.0,>=3.6.0->es-core-news-md==3.6.0) (1.1.2)\n",
            "Requirement already satisfied: srsly<3.0.0,>=2.4.3 in /usr/local/lib/python3.10/dist-packages (from spacy<3.7.0,>=3.6.0->es-core-news-md==3.6.0) (2.4.7)\n",
            "Requirement already satisfied: catalogue<2.1.0,>=2.0.6 in /usr/local/lib/python3.10/dist-packages (from spacy<3.7.0,>=3.6.0->es-core-news-md==3.6.0) (2.0.9)\n",
            "Requirement already satisfied: typer<0.10.0,>=0.3.0 in /usr/local/lib/python3.10/dist-packages (from spacy<3.7.0,>=3.6.0->es-core-news-md==3.6.0) (0.9.0)\n",
            "Requirement already satisfied: pathy>=0.10.0 in /usr/local/lib/python3.10/dist-packages (from spacy<3.7.0,>=3.6.0->es-core-news-md==3.6.0) (0.10.2)\n",
            "Requirement already satisfied: smart-open<7.0.0,>=5.2.1 in /usr/local/lib/python3.10/dist-packages (from spacy<3.7.0,>=3.6.0->es-core-news-md==3.6.0) (6.3.0)\n",
            "Requirement already satisfied: tqdm<5.0.0,>=4.38.0 in /usr/local/lib/python3.10/dist-packages (from spacy<3.7.0,>=3.6.0->es-core-news-md==3.6.0) (4.66.1)\n",
            "Requirement already satisfied: numpy>=1.15.0 in /usr/local/lib/python3.10/dist-packages (from spacy<3.7.0,>=3.6.0->es-core-news-md==3.6.0) (1.23.5)\n",
            "Requirement already satisfied: requests<3.0.0,>=2.13.0 in /usr/local/lib/python3.10/dist-packages (from spacy<3.7.0,>=3.6.0->es-core-news-md==3.6.0) (2.31.0)\n",
            "Requirement already satisfied: pydantic!=1.8,!=1.8.1,<3.0.0,>=1.7.4 in /usr/local/lib/python3.10/dist-packages (from spacy<3.7.0,>=3.6.0->es-core-news-md==3.6.0) (2.2.1)\n",
            "Requirement already satisfied: jinja2 in /usr/local/lib/python3.10/dist-packages (from spacy<3.7.0,>=3.6.0->es-core-news-md==3.6.0) (3.1.2)\n",
            "Requirement already satisfied: setuptools in /usr/local/lib/python3.10/dist-packages (from spacy<3.7.0,>=3.6.0->es-core-news-md==3.6.0) (67.7.2)\n",
            "Requirement already satisfied: packaging>=20.0 in /usr/local/lib/python3.10/dist-packages (from spacy<3.7.0,>=3.6.0->es-core-news-md==3.6.0) (23.1)\n",
            "Requirement already satisfied: langcodes<4.0.0,>=3.2.0 in /usr/local/lib/python3.10/dist-packages (from spacy<3.7.0,>=3.6.0->es-core-news-md==3.6.0) (3.3.0)\n",
            "Requirement already satisfied: annotated-types>=0.4.0 in /usr/local/lib/python3.10/dist-packages (from pydantic!=1.8,!=1.8.1,<3.0.0,>=1.7.4->spacy<3.7.0,>=3.6.0->es-core-news-md==3.6.0) (0.5.0)\n",
            "Requirement already satisfied: pydantic-core==2.6.1 in /usr/local/lib/python3.10/dist-packages (from pydantic!=1.8,!=1.8.1,<3.0.0,>=1.7.4->spacy<3.7.0,>=3.6.0->es-core-news-md==3.6.0) (2.6.1)\n",
            "Requirement already satisfied: typing-extensions>=4.6.1 in /usr/local/lib/python3.10/dist-packages (from pydantic!=1.8,!=1.8.1,<3.0.0,>=1.7.4->spacy<3.7.0,>=3.6.0->es-core-news-md==3.6.0) (4.7.1)\n",
            "Requirement already satisfied: charset-normalizer<4,>=2 in /usr/local/lib/python3.10/dist-packages (from requests<3.0.0,>=2.13.0->spacy<3.7.0,>=3.6.0->es-core-news-md==3.6.0) (3.2.0)\n",
            "Requirement already satisfied: idna<4,>=2.5 in /usr/local/lib/python3.10/dist-packages (from requests<3.0.0,>=2.13.0->spacy<3.7.0,>=3.6.0->es-core-news-md==3.6.0) (3.4)\n",
            "Requirement already satisfied: urllib3<3,>=1.21.1 in /usr/local/lib/python3.10/dist-packages (from requests<3.0.0,>=2.13.0->spacy<3.7.0,>=3.6.0->es-core-news-md==3.6.0) (2.0.4)\n",
            "Requirement already satisfied: certifi>=2017.4.17 in /usr/local/lib/python3.10/dist-packages (from requests<3.0.0,>=2.13.0->spacy<3.7.0,>=3.6.0->es-core-news-md==3.6.0) (2023.7.22)\n",
            "Requirement already satisfied: blis<0.8.0,>=0.7.8 in /usr/local/lib/python3.10/dist-packages (from thinc<8.2.0,>=8.1.8->spacy<3.7.0,>=3.6.0->es-core-news-md==3.6.0) (0.7.10)\n",
            "Requirement already satisfied: confection<1.0.0,>=0.0.1 in /usr/local/lib/python3.10/dist-packages (from thinc<8.2.0,>=8.1.8->spacy<3.7.0,>=3.6.0->es-core-news-md==3.6.0) (0.1.1)\n",
            "Requirement already satisfied: click<9.0.0,>=7.1.1 in /usr/local/lib/python3.10/dist-packages (from typer<0.10.0,>=0.3.0->spacy<3.7.0,>=3.6.0->es-core-news-md==3.6.0) (8.1.7)\n",
            "Requirement already satisfied: MarkupSafe>=2.0 in /usr/local/lib/python3.10/dist-packages (from jinja2->spacy<3.7.0,>=3.6.0->es-core-news-md==3.6.0) (2.1.3)\n",
            "Installing collected packages: es-core-news-md\n",
            "Successfully installed es-core-news-md-3.6.0\n",
            "\u001b[38;5;2m✔ Download and installation successful\u001b[0m\n",
            "You can now load the package via spacy.load('es_core_news_md')\n"
          ]
        }
      ]
    },
    {
      "cell_type": "code",
      "source": [
        "!python -m spacy validate"
      ],
      "metadata": {
        "colab": {
          "base_uri": "https://localhost:8080/"
        },
        "id": "jS7pTp2NQSZe",
        "outputId": "97f35811-4df7-403b-9b52-8a0491c7c6a7"
      },
      "execution_count": null,
      "outputs": [
        {
          "output_type": "stream",
          "name": "stdout",
          "text": [
            "2023-08-29 21:46:38.406383: I tensorflow/core/platform/cpu_feature_guard.cc:182] This TensorFlow binary is optimized to use available CPU instructions in performance-critical operations.\n",
            "To enable the following instructions: AVX2 FMA, in other operations, rebuild TensorFlow with the appropriate compiler flags.\n",
            "2023-08-29 21:46:39.703909: W tensorflow/compiler/tf2tensorrt/utils/py_utils.cc:38] TF-TRT Warning: Could not find TensorRT\n",
            "\u001b[2K\u001b[38;5;2m✔ Loaded compatibility table\u001b[0m\n",
            "\u001b[1m\n",
            "================= Installed pipeline packages (spaCy v3.6.1) =================\u001b[0m\n",
            "\u001b[38;5;4mℹ spaCy installation: /usr/local/lib/python3.10/dist-packages/spacy\u001b[0m\n",
            "\n",
            "NAME              SPACY            VERSION                            \n",
            "es_core_news_md   >=3.6.0,<3.7.0   \u001b[38;5;2m3.6.0\u001b[0m   \u001b[38;5;2m✔\u001b[0m\n",
            "en_core_web_sm    >=3.6.0,<3.7.0   \u001b[38;5;2m3.6.0\u001b[0m   \u001b[38;5;2m✔\u001b[0m\n",
            "\n"
          ]
        }
      ]
    },
    {
      "cell_type": "markdown",
      "metadata": {
        "id": "s4_e6YP6tvKa"
      },
      "source": [
        "## modelos\n",
        "\n",
        "- Spacy utiliza modelos estadísticos para predecir anotaciones lingüísticas\n",
        "- idiomas disponibles: alemán, chino, danés, español, francés, inglés, italiano, japonés, neerlandés, lituano, griego, noruego, polaco, portugués, rumano y ruso + modelo multilingüe\n",
        "- 4 modelos para [español](https://spacy.io/models/es)\n",
        "- Todos estos modelos, sea cual sea su tipo o lenguaje, se utilizan de la misma manera, con la misma API."
      ]
    },
    {
      "cell_type": "markdown",
      "metadata": {
        "id": "JadxzjAHtvKg"
      },
      "source": [
        "## uso\n",
        "\n",
        "- si quiere usar Spacy tómate el tiempo de leer la [documentación](https://spacy.io/usage), aquí es sólo un vistazo rápido\n",
        "- una plantilla es una instancia de la clase `Language`, y está adaptada a un idioma en particular\n",
        "- una plantilla incorpora un vocabulario, pesos, vectores de palabras y una configuración"
      ]
    },
    {
      "cell_type": "code",
      "execution_count": null,
      "metadata": {
        "id": "xzkXVhUVtvKl"
      },
      "outputs": [],
      "source": [
        "import spacy\n",
        "nlp = spacy.load('es_core_news_md')"
      ]
    },
    {
      "cell_type": "code",
      "execution_count": null,
      "metadata": {
        "id": "9NY-fccNtvKq",
        "outputId": "84845685-d882-472a-bbdb-d0f413e65ff3",
        "colab": {
          "base_uri": "https://localhost:8080/"
        }
      },
      "outputs": [
        {
          "output_type": "execute_result",
          "data": {
            "text/plain": [
              "spacy.lang.es.Spanish"
            ]
          },
          "metadata": {},
          "execution_count": 5
        }
      ],
      "source": [
        "type(nlp)"
      ]
    },
    {
      "cell_type": "markdown",
      "metadata": {
        "id": "UYO87zcCtvKv"
      },
      "source": [
        "El procesamiento funciona con una [*pipeline*](https://spacy.io/usage/spacy-101#pipelines) para convertir texto en un objeto `Doc` (texto anotado)"
      ]
    },
    {
      "cell_type": "code",
      "execution_count": null,
      "metadata": {
        "id": "uhhXIuOVtvKy",
        "outputId": "13001714-423f-4387-8998-495e3612d2ec",
        "colab": {
          "base_uri": "https://localhost:8080/"
        }
      },
      "outputs": [
        {
          "output_type": "execute_result",
          "data": {
            "text/plain": [
              "[('tok2vec', <spacy.pipeline.tok2vec.Tok2Vec at 0x7bd368e96020>),\n",
              " ('morphologizer',\n",
              "  <spacy.pipeline.morphologizer.Morphologizer at 0x7bd368e962c0>),\n",
              " ('attribute_ruler',\n",
              "  <spacy.pipeline.attributeruler.AttributeRuler at 0x7bd361d62100>),\n",
              " ('lemmatizer',\n",
              "  <spacy.lang.es.lemmatizer.SpanishLemmatizer at 0x7bd368e49300>)]"
            ]
          },
          "metadata": {},
          "execution_count": 6
        }
      ],
      "source": [
        "nlp = spacy.load('es_core_news_md', disable=[\"parser\", \"ner\"])\n",
        "nlp.pipeline"
      ]
    },
    {
      "cell_type": "markdown",
      "metadata": {
        "id": "KfsbwddvtvKz"
      },
      "source": [
        "Regreso al pipeline por defecto"
      ]
    },
    {
      "cell_type": "code",
      "execution_count": null,
      "metadata": {
        "id": "mT5M9OTTtvK1",
        "outputId": "3b25276a-74e6-4676-990f-48a72754acd6",
        "colab": {
          "base_uri": "https://localhost:8080/"
        }
      },
      "outputs": [
        {
          "output_type": "execute_result",
          "data": {
            "text/plain": [
              "[('tok2vec', <spacy.pipeline.tok2vec.Tok2Vec at 0x7bd361dad540>),\n",
              " ('morphologizer',\n",
              "  <spacy.pipeline.morphologizer.Morphologizer at 0x7bd368d37ac0>),\n",
              " ('parser', <spacy.pipeline.dep_parser.DependencyParser at 0x7bd368cf3140>),\n",
              " ('attribute_ruler',\n",
              "  <spacy.pipeline.attributeruler.AttributeRuler at 0x7bd361f86300>),\n",
              " ('lemmatizer',\n",
              "  <spacy.lang.es.lemmatizer.SpanishLemmatizer at 0x7bd368d8c680>),\n",
              " ('ner', <spacy.pipeline.ner.EntityRecognizer at 0x7bd368cf33e0>)]"
            ]
          },
          "metadata": {},
          "execution_count": 7
        }
      ],
      "source": [
        "nlp = spacy.load('es_core_news_md')\n",
        "nlp.pipeline"
      ]
    },
    {
      "cell_type": "markdown",
      "metadata": {
        "id": "ixznN5k_tvK3"
      },
      "source": [
        "- Un objeto `Doc` es una secuencia de objetos `Token` (véase la [API](https://spacy.io/api/token))\n",
        " - El texto original se descompone en frases, se tokeniza, se anota con POS, lemas, sintaxis (dependencia) y entidades nombradas (NER)."
      ]
    },
    {
      "cell_type": "code",
      "execution_count": null,
      "metadata": {
        "id": "K7rlVhAKtvK4",
        "outputId": "3e08533a-3e85-4c8a-c498-31f393e05d04",
        "colab": {
          "base_uri": "https://localhost:8080/"
        }
      },
      "outputs": [
        {
          "output_type": "execute_result",
          "data": {
            "text/plain": [
              "spacy.tokens.doc.Doc"
            ]
          },
          "metadata": {},
          "execution_count": 8
        }
      ],
      "source": [
        "doc = nlp(\"La Organización de las Naciones Unidas (ONU) lanzó el martes un llamado de emergencia para recaudar decenas de millones de dólares destinados a proteger a los refugiados vulnerables de la propagación del nuevo coronavirus.\")\n",
        "type(doc)"
      ]
    },
    {
      "cell_type": "markdown",
      "metadata": {
        "id": "ePoElls-tvK6"
      },
      "source": [
        "##  uso - tokenización\n",
        "\n",
        "La tokenización de Spacy no es destructiva. Puede cortar un texto en tokens y restaurarlo a su forma original."
      ]
    },
    {
      "cell_type": "code",
      "execution_count": null,
      "metadata": {
        "id": "CeFAWvZQtvK7",
        "outputId": "e11631b7-21ef-497d-deba-fe1769acbfa9",
        "colab": {
          "base_uri": "https://localhost:8080/"
        }
      },
      "outputs": [
        {
          "output_type": "stream",
          "name": "stdout",
          "text": [
            "La\n",
            "Organización\n",
            "de\n",
            "las\n",
            "Naciones\n",
            "Unidas\n",
            "(\n",
            "ONU\n",
            ")\n",
            "lanzó\n",
            "el\n",
            "martes\n",
            "un\n",
            "llamado\n",
            "de\n",
            "emergencia\n",
            "para\n",
            "recaudar\n",
            "decenas\n",
            "de\n",
            "millones\n",
            "de\n",
            "dólares\n",
            "destinados\n",
            "a\n",
            "proteger\n",
            "a\n",
            "los\n",
            "refugiados\n",
            "vulnerables\n",
            "de\n",
            "la\n",
            "propagación\n",
            "del\n",
            "nuevo\n",
            "coronavirus\n",
            ".\n"
          ]
        }
      ],
      "source": [
        "doc = nlp(\"La Organización de las Naciones Unidas (ONU) lanzó el martes un llamado de emergencia para recaudar decenas de millones de dólares destinados a proteger a los refugiados vulnerables de la propagación del nuevo coronavirus.\")\n",
        "for token in doc:\n",
        "    print(token)"
      ]
    },
    {
      "cell_type": "code",
      "execution_count": null,
      "metadata": {
        "id": "Cf_eevqktvK9",
        "outputId": "43a7e62a-b8c9-4735-c15c-ac274dc4eb28",
        "colab": {
          "base_uri": "https://localhost:8080/"
        }
      },
      "outputs": [
        {
          "output_type": "stream",
          "name": "stdout",
          "text": [
            "La Organización de las Naciones Unidas (ONU) lanzó el martes un llamado de emergencia para recaudar decenas de millones de dólares destinados a proteger a los refugiados vulnerables de la propagación del nuevo coronavirus."
          ]
        }
      ],
      "source": [
        "for token in doc:\n",
        "    print(token.text_with_ws, end=\"\")"
      ]
    },
    {
      "cell_type": "markdown",
      "metadata": {
        "id": "wQDP4nMrtvK_"
      },
      "source": [
        "## uso - etiquetado"
      ]
    },
    {
      "cell_type": "markdown",
      "metadata": {
        "id": "3-DDti4ctvLA"
      },
      "source": [
        "Las anotaciones relativas a los tokens son accesibles a través de los atributos de los objetos de tipo `token`: [https://spacy.io/api/token#attributes](https://spacy.io/api/token#attributes)  \n",
        "  - `pos_` contiene la etiqueta de parte de discurso de [dependencias universales](https://universaldependencies.org/docs/u/pos/)\n",
        "  - `tag_` contiene la etiqueta del corpus original, a veces más detallada\n",
        "  - `lemma_` para el lema\n",
        "  - `morph` para el análisis morfológico"
      ]
    },
    {
      "cell_type": "code",
      "execution_count": null,
      "metadata": {
        "id": "2LxC-OW9tvLB",
        "outputId": "7de75457-26db-41b0-df3f-d11a9e2c0c92",
        "colab": {
          "base_uri": "https://localhost:8080/"
        }
      },
      "outputs": [
        {
          "output_type": "stream",
          "name": "stdout",
          "text": [
            "La DET Definite=Def|Gender=Fem|Number=Sing|PronType=Art el\n",
            "Organización PROPN  Organización\n",
            "de ADP  de\n",
            "las DET Definite=Def|Gender=Fem|Number=Plur|PronType=Art el\n",
            "Naciones PROPN  Naciones\n",
            "Unidas PROPN  Unidas\n",
            "( PUNCT PunctSide=Ini|PunctType=Brck (\n",
            "ONU PROPN  ONU\n",
            ") PUNCT PunctSide=Fin|PunctType=Brck )\n",
            "lanzó VERB Mood=Ind|Number=Sing|Person=3|Tense=Past|VerbForm=Fin lanzar\n",
            "el DET Definite=Def|Gender=Masc|Number=Sing|PronType=Art el\n",
            "martes NOUN AdvType=Tim martes\n",
            "un DET Definite=Ind|Gender=Masc|Number=Sing|PronType=Art uno\n",
            "llamado ADJ Gender=Masc|Number=Sing|VerbForm=Part llamado\n",
            "de ADP  de\n",
            "emergencia NOUN Gender=Fem|Number=Sing emergencia\n",
            "para ADP  para\n",
            "recaudar VERB VerbForm=Inf recaudar\n",
            "decenas NOUN Gender=Fem|Number=Plur decena\n",
            "de ADP  de\n",
            "millones NOUN Gender=Masc|Number=Plur millón\n",
            "de ADP  de\n",
            "dólares NOUN NumForm=Digit dólares\n",
            "destinados ADJ Gender=Masc|Number=Plur|VerbForm=Part destinado\n",
            "a ADP  a\n",
            "proteger VERB VerbForm=Inf proteger\n",
            "a ADP  a\n",
            "los DET Definite=Def|Gender=Masc|Number=Plur|PronType=Art el\n",
            "refugiados NOUN Gender=Masc|Number=Plur refugiado\n",
            "vulnerables ADJ Number=Plur vulnerable\n",
            "de ADP  de\n",
            "la DET Definite=Def|Gender=Fem|Number=Sing|PronType=Art el\n",
            "propagación NOUN Gender=Fem|Number=Sing propagación\n",
            "del ADP Definite=Def|Gender=Masc|Number=Sing|PronType=Art del\n",
            "nuevo ADJ Gender=Masc|Number=Sing nuevo\n",
            "coronavirus NOUN Gender=Masc coronavirus\n",
            ". PUNCT PunctType=Peri .\n"
          ]
        }
      ],
      "source": [
        "for token in doc:\n",
        "    print(token.text, token.pos_, token.morph, token.lemma_)"
      ]
    },
    {
      "cell_type": "markdown",
      "metadata": {
        "id": "TwL8zi_MtvLJ"
      },
      "source": [
        "Pour traiter plusieurs textes en série, il est recommandé d'utiliser [nlp.pipe](https://spacy.io/api/language#pipe)"
      ]
    },
    {
      "cell_type": "code",
      "execution_count": null,
      "metadata": {
        "id": "WDxRPGAutvLK"
      },
      "outputs": [],
      "source": [
        "texts = [\n",
        "    \"Cadine avait un très-mauvais caractère. Elle ne s’accommodait pas du rôle de servante.\",\n",
        "    \"Aussi finit-elle par s’établir pour son compte.\",\n",
        "    \"Comme elle était alors âgée de treize ans, et qu’elle ne pouvait rêver le grand commerce, un banc de vente de l’allée aux fleurs, elle vendit des bouquets de violettes d’un sou, piqués dans un lit de mousse, sur un éventaire d’osier pendu à son cou.\",\n",
        "    \"Elle rôdait toute la journée dans les Halles, autour des Halles, promenant son bout de pelouse.\",\n",
        "    \"C’était là sa joie, cette flânerie continuelle, qui lui dégourdissait les jambes, qui la tirait des longues heures passées à faire des bouquets, les genoux pliés, sur une chaise basse.\",\n",
        "    \"Maintenant, elle tournait ses violettes en marchant, elle les tournait comme des fuseaux, avec une merveilleuse légèreté de doigts ; elle comptait six à huit fleurs, selon la saison, pliait en deux un brin de jonc, ajoutait une feuille, roulait un fil mouillé ; et, entre ses dents de jeune loup, elle cassait le fil.\"\n",
        "]"
      ]
    },
    {
      "cell_type": "markdown",
      "metadata": {
        "id": "4jnMlt5wtvLL"
      },
      "source": [
        "✍️\n",
        "1. Extrae la lista de sustantivos comunes de la serie de frases anteriores.\n",
        "2. Cuenta el número de sustantivos masculinos y femeninos"
      ]
    },
    {
      "cell_type": "markdown",
      "metadata": {
        "id": "UjSK1LmjtvLP"
      },
      "source": [
        "## uso – NER"
      ]
    },
    {
      "cell_type": "markdown",
      "metadata": {
        "id": "wcxZxh4btvLT"
      },
      "source": [
        "Si NER (*Named Entity Recognition*) forma parte de su modelo, sus datos también se anotarán como entidades con nombre.\n",
        "Puede acceder a ello mediante el atributo `ent_type_` de los tokens"
      ]
    },
    {
      "cell_type": "code",
      "execution_count": null,
      "metadata": {
        "id": "JVGqJyRwtvLW",
        "outputId": "0751341f-3146-4b1e-b9d3-88a21e04fbd4",
        "colab": {
          "base_uri": "https://localhost:8080/"
        }
      },
      "outputs": [
        {
          "output_type": "stream",
          "name": "stdout",
          "text": [
            "La \n",
            "Organización ORG\n",
            "de ORG\n",
            "las ORG\n",
            "Naciones ORG\n",
            "Unidas ORG\n",
            "( \n",
            "ONU ORG\n",
            ") \n",
            "lanzó \n",
            "el \n",
            "martes \n",
            "un \n",
            "llamado \n",
            "de \n",
            "emergencia \n",
            "para \n",
            "recaudar \n",
            "decenas \n",
            "de \n",
            "millones \n",
            "de \n",
            "dólares \n",
            "destinados \n",
            "a \n",
            "proteger \n",
            "a \n",
            "los \n",
            "refugiados \n",
            "vulnerables \n",
            "de \n",
            "la \n",
            "propagación \n",
            "del \n",
            "nuevo \n",
            "coronavirus \n",
            ". \n"
          ]
        }
      ],
      "source": [
        "doc = nlp(\"La Organización de las Naciones Unidas (ONU) lanzó el martes un llamado de emergencia para recaudar decenas de millones de dólares destinados a proteger a los refugiados vulnerables de la propagación del nuevo coronavirus.\")\n",
        "for token in doc:\n",
        "    print(token, token.ent_type_)"
      ]
    },
    {
      "cell_type": "markdown",
      "metadata": {
        "id": "cSd4pXrctvLY"
      },
      "source": [
        "O acceso directo a las entidades del objeto `Doc`."
      ]
    },
    {
      "cell_type": "code",
      "execution_count": null,
      "metadata": {
        "id": "60xkxfBftvLc",
        "outputId": "433e0b1a-c7f4-433c-e5a9-6ff3e6400905",
        "colab": {
          "base_uri": "https://localhost:8080/"
        }
      },
      "outputs": [
        {
          "output_type": "stream",
          "name": "stdout",
          "text": [
            "Organización de las Naciones Unidas ORG\n",
            "ONU ORG\n"
          ]
        }
      ],
      "source": [
        "for ent in doc.ents:\n",
        "    print(ent.text, ent.label_)"
      ]
    },
    {
      "cell_type": "markdown",
      "metadata": {
        "id": "y6XznFV8tvLf"
      },
      "source": [
        "Spacy incluye una herramienta de visualización para anotar entidades nombradas:"
      ]
    },
    {
      "cell_type": "code",
      "execution_count": null,
      "metadata": {
        "id": "ES4Unc1gtvLs",
        "outputId": "94842d7d-326f-441b-d07e-8b23796b8931",
        "colab": {
          "base_uri": "https://localhost:8080/",
          "height": 87
        }
      },
      "outputs": [
        {
          "output_type": "display_data",
          "data": {
            "text/plain": [
              "<IPython.core.display.HTML object>"
            ],
            "text/html": [
              "<span class=\"tex2jax_ignore\"><div class=\"entities\" style=\"line-height: 2.5; direction: ltr\">La \n",
              "<mark class=\"entity\" style=\"background: #7aecec; padding: 0.45em 0.6em; margin: 0 0.25em; line-height: 1; border-radius: 0.35em;\">\n",
              "    Organización de las Naciones Unidas\n",
              "    <span style=\"font-size: 0.8em; font-weight: bold; line-height: 1; border-radius: 0.35em; vertical-align: middle; margin-left: 0.5rem\">ORG</span>\n",
              "</mark>\n",
              " (\n",
              "<mark class=\"entity\" style=\"background: #7aecec; padding: 0.45em 0.6em; margin: 0 0.25em; line-height: 1; border-radius: 0.35em;\">\n",
              "    ONU\n",
              "    <span style=\"font-size: 0.8em; font-weight: bold; line-height: 1; border-radius: 0.35em; vertical-align: middle; margin-left: 0.5rem\">ORG</span>\n",
              "</mark>\n",
              ") lanzó el martes un llamado de emergencia para recaudar decenas de millones de dólares destinados a proteger a los refugiados vulnerables de la propagación del nuevo coronavirus.</div></span>"
            ]
          },
          "metadata": {}
        }
      ],
      "source": [
        "from spacy import displacy\n",
        "displacy.render(doc, style=\"ent\", jupyter=True)"
      ]
    },
    {
      "cell_type": "code",
      "execution_count": null,
      "metadata": {
        "id": "A55GNAdftvLu",
        "outputId": "9ed31c07-067b-4df5-eef1-93319e8e497f",
        "colab": {
          "base_uri": "https://localhost:8080/",
          "height": 87
        }
      },
      "outputs": [
        {
          "output_type": "display_data",
          "data": {
            "text/plain": [
              "<IPython.core.display.HTML object>"
            ],
            "text/html": [
              "<span class=\"tex2jax_ignore\"><div class=\"entities\" style=\"line-height: 2.5; direction: ltr\">El \n",
              "<mark class=\"entity\" style=\"background: #ddd; padding: 0.45em 0.6em; margin: 0 0.25em; line-height: 1; border-radius: 0.35em;\">\n",
              "    Presidente Xi Jinping\n",
              "    <span style=\"font-size: 0.8em; font-weight: bold; line-height: 1; border-radius: 0.35em; vertical-align: middle; margin-left: 0.5rem\">PER</span>\n",
              "</mark>\n",
              " afirmó que la propagación del coronavirus estaba &quot;prácticamente bajo control&quot;. También realizó su primera visita a \n",
              "<mark class=\"entity\" style=\"background: #ff9561; padding: 0.45em 0.6em; margin: 0 0.25em; line-height: 1; border-radius: 0.35em;\">\n",
              "    Wuhan\n",
              "    <span style=\"font-size: 0.8em; font-weight: bold; line-height: 1; border-radius: 0.35em; vertical-align: middle; margin-left: 0.5rem\">LOC</span>\n",
              "</mark>\n",
              ", capital de la provincia de \n",
              "<mark class=\"entity\" style=\"background: #ff9561; padding: 0.45em 0.6em; margin: 0 0.25em; line-height: 1; border-radius: 0.35em;\">\n",
              "    Hubei\n",
              "    <span style=\"font-size: 0.8em; font-weight: bold; line-height: 1; border-radius: 0.35em; vertical-align: middle; margin-left: 0.5rem\">LOC</span>\n",
              "</mark>\n",
              ", cuna de \n",
              "<mark class=\"entity\" style=\"background: #ff9561; padding: 0.45em 0.6em; margin: 0 0.25em; line-height: 1; border-radius: 0.35em;\">\n",
              "    Covid-19\n",
              "    <span style=\"font-size: 0.8em; font-weight: bold; line-height: 1; border-radius: 0.35em; vertical-align: middle; margin-left: 0.5rem\">LOC</span>\n",
              "</mark>\n",
              ".</div></span>"
            ]
          },
          "metadata": {}
        }
      ],
      "source": [
        "doc = nlp('El Presidente Xi Jinping afirmó que la propagación del coronavirus estaba \"prácticamente bajo control\". También realizó su primera visita a Wuhan, capital de la provincia de Hubei, cuna de Covid-19.')\n",
        "displacy.render(doc, style=\"ent\", jupyter=True)"
      ]
    },
    {
      "cell_type": "markdown",
      "metadata": {
        "id": "a8RpQWjBtvLy"
      },
      "source": [
        "## uso – análisis sintáctico"
      ]
    },
    {
      "cell_type": "markdown",
      "metadata": {
        "id": "TdYH5O01tvLz"
      },
      "source": [
        "El análisis sintáctico o *parsing* de Spacy es un análisis de dependencias. La mayoría de los modelos utilizados, si no todos, proceden de https://universaldependencies.org.\n",
        "\n",
        "En el análisis sintáctico de dependencias producido por Spacy, cada palabra de una oración tiene un único gobernador (*head*), y la relación de dependencia entre la palabra y su gobernador está tipificada (*nsubj*, *obj*, ...).  \n",
        "La relación *ROOT* se utiliza para la cabeza de la frase.\n",
        "\n",
        "La estructura producida por el análisis sintáctico es un árbol, un grafo acíclico y conectado. Los tokens son los nodos, los arcos son las dependencias y el tipo de relación es la etiqueta del arco."
      ]
    },
    {
      "cell_type": "markdown",
      "metadata": {
        "id": "8LGtpZDBtvL0"
      },
      "source": [
        "`displacy` proporciona una práctica herramienta de visualización:"
      ]
    },
    {
      "cell_type": "code",
      "execution_count": null,
      "metadata": {
        "id": "T-_LD5kStvL1",
        "outputId": "9f7369ea-16d2-424d-e4b3-9b8264dd918f",
        "colab": {
          "base_uri": "https://localhost:8080/",
          "height": 313
        }
      },
      "outputs": [
        {
          "output_type": "display_data",
          "data": {
            "text/plain": [
              "<IPython.core.display.HTML object>"
            ],
            "text/html": [
              "<span class=\"tex2jax_ignore\"><svg xmlns=\"http://www.w3.org/2000/svg\" xmlns:xlink=\"http://www.w3.org/1999/xlink\" xml:lang=\"es\" id=\"22c73db6dbd445ff9e3f9da0b3076b8e-0\" class=\"displacy\" width=\"1760\" height=\"272.0\" direction=\"ltr\" style=\"max-width: none; height: 272.0px; color: #000000; background: #ffffff; font-family: Arial; direction: ltr\">\n",
              "<text class=\"displacy-token\" fill=\"currentColor\" text-anchor=\"middle\" y=\"182.0\">\n",
              "    <tspan class=\"displacy-word\" fill=\"currentColor\" x=\"50\">El</tspan>\n",
              "    <tspan class=\"displacy-tag\" dy=\"2em\" fill=\"currentColor\" x=\"50\">DET</tspan>\n",
              "</text>\n",
              "\n",
              "<text class=\"displacy-token\" fill=\"currentColor\" text-anchor=\"middle\" y=\"182.0\">\n",
              "    <tspan class=\"displacy-word\" fill=\"currentColor\" x=\"140\">Presidente</tspan>\n",
              "    <tspan class=\"displacy-tag\" dy=\"2em\" fill=\"currentColor\" x=\"140\">PROPN</tspan>\n",
              "</text>\n",
              "\n",
              "<text class=\"displacy-token\" fill=\"currentColor\" text-anchor=\"middle\" y=\"182.0\">\n",
              "    <tspan class=\"displacy-word\" fill=\"currentColor\" x=\"230\">Xi</tspan>\n",
              "    <tspan class=\"displacy-tag\" dy=\"2em\" fill=\"currentColor\" x=\"230\">PROPN</tspan>\n",
              "</text>\n",
              "\n",
              "<text class=\"displacy-token\" fill=\"currentColor\" text-anchor=\"middle\" y=\"182.0\">\n",
              "    <tspan class=\"displacy-word\" fill=\"currentColor\" x=\"320\">Jinping</tspan>\n",
              "    <tspan class=\"displacy-tag\" dy=\"2em\" fill=\"currentColor\" x=\"320\">PROPN</tspan>\n",
              "</text>\n",
              "\n",
              "<text class=\"displacy-token\" fill=\"currentColor\" text-anchor=\"middle\" y=\"182.0\">\n",
              "    <tspan class=\"displacy-word\" fill=\"currentColor\" x=\"410\">realizó</tspan>\n",
              "    <tspan class=\"displacy-tag\" dy=\"2em\" fill=\"currentColor\" x=\"410\">VERB</tspan>\n",
              "</text>\n",
              "\n",
              "<text class=\"displacy-token\" fill=\"currentColor\" text-anchor=\"middle\" y=\"182.0\">\n",
              "    <tspan class=\"displacy-word\" fill=\"currentColor\" x=\"500\">ayer</tspan>\n",
              "    <tspan class=\"displacy-tag\" dy=\"2em\" fill=\"currentColor\" x=\"500\">ADV</tspan>\n",
              "</text>\n",
              "\n",
              "<text class=\"displacy-token\" fill=\"currentColor\" text-anchor=\"middle\" y=\"182.0\">\n",
              "    <tspan class=\"displacy-word\" fill=\"currentColor\" x=\"590\">un</tspan>\n",
              "    <tspan class=\"displacy-tag\" dy=\"2em\" fill=\"currentColor\" x=\"590\">DET</tspan>\n",
              "</text>\n",
              "\n",
              "<text class=\"displacy-token\" fill=\"currentColor\" text-anchor=\"middle\" y=\"182.0\">\n",
              "    <tspan class=\"displacy-word\" fill=\"currentColor\" x=\"680\">visita</tspan>\n",
              "    <tspan class=\"displacy-tag\" dy=\"2em\" fill=\"currentColor\" x=\"680\">NOUN</tspan>\n",
              "</text>\n",
              "\n",
              "<text class=\"displacy-token\" fill=\"currentColor\" text-anchor=\"middle\" y=\"182.0\">\n",
              "    <tspan class=\"displacy-word\" fill=\"currentColor\" x=\"770\">a</tspan>\n",
              "    <tspan class=\"displacy-tag\" dy=\"2em\" fill=\"currentColor\" x=\"770\">ADP</tspan>\n",
              "</text>\n",
              "\n",
              "<text class=\"displacy-token\" fill=\"currentColor\" text-anchor=\"middle\" y=\"182.0\">\n",
              "    <tspan class=\"displacy-word\" fill=\"currentColor\" x=\"860\">Wuhan,</tspan>\n",
              "    <tspan class=\"displacy-tag\" dy=\"2em\" fill=\"currentColor\" x=\"860\">PROPN</tspan>\n",
              "</text>\n",
              "\n",
              "<text class=\"displacy-token\" fill=\"currentColor\" text-anchor=\"middle\" y=\"182.0\">\n",
              "    <tspan class=\"displacy-word\" fill=\"currentColor\" x=\"950\">capital</tspan>\n",
              "    <tspan class=\"displacy-tag\" dy=\"2em\" fill=\"currentColor\" x=\"950\">NOUN</tspan>\n",
              "</text>\n",
              "\n",
              "<text class=\"displacy-token\" fill=\"currentColor\" text-anchor=\"middle\" y=\"182.0\">\n",
              "    <tspan class=\"displacy-word\" fill=\"currentColor\" x=\"1040\">de</tspan>\n",
              "    <tspan class=\"displacy-tag\" dy=\"2em\" fill=\"currentColor\" x=\"1040\">ADP</tspan>\n",
              "</text>\n",
              "\n",
              "<text class=\"displacy-token\" fill=\"currentColor\" text-anchor=\"middle\" y=\"182.0\">\n",
              "    <tspan class=\"displacy-word\" fill=\"currentColor\" x=\"1130\">la</tspan>\n",
              "    <tspan class=\"displacy-tag\" dy=\"2em\" fill=\"currentColor\" x=\"1130\">DET</tspan>\n",
              "</text>\n",
              "\n",
              "<text class=\"displacy-token\" fill=\"currentColor\" text-anchor=\"middle\" y=\"182.0\">\n",
              "    <tspan class=\"displacy-word\" fill=\"currentColor\" x=\"1220\">provincia</tspan>\n",
              "    <tspan class=\"displacy-tag\" dy=\"2em\" fill=\"currentColor\" x=\"1220\">NOUN</tspan>\n",
              "</text>\n",
              "\n",
              "<text class=\"displacy-token\" fill=\"currentColor\" text-anchor=\"middle\" y=\"182.0\">\n",
              "    <tspan class=\"displacy-word\" fill=\"currentColor\" x=\"1310\">de</tspan>\n",
              "    <tspan class=\"displacy-tag\" dy=\"2em\" fill=\"currentColor\" x=\"1310\">ADP</tspan>\n",
              "</text>\n",
              "\n",
              "<text class=\"displacy-token\" fill=\"currentColor\" text-anchor=\"middle\" y=\"182.0\">\n",
              "    <tspan class=\"displacy-word\" fill=\"currentColor\" x=\"1400\">Hubei,</tspan>\n",
              "    <tspan class=\"displacy-tag\" dy=\"2em\" fill=\"currentColor\" x=\"1400\">PROPN</tspan>\n",
              "</text>\n",
              "\n",
              "<text class=\"displacy-token\" fill=\"currentColor\" text-anchor=\"middle\" y=\"182.0\">\n",
              "    <tspan class=\"displacy-word\" fill=\"currentColor\" x=\"1490\">cuna</tspan>\n",
              "    <tspan class=\"displacy-tag\" dy=\"2em\" fill=\"currentColor\" x=\"1490\">NOUN</tspan>\n",
              "</text>\n",
              "\n",
              "<text class=\"displacy-token\" fill=\"currentColor\" text-anchor=\"middle\" y=\"182.0\">\n",
              "    <tspan class=\"displacy-word\" fill=\"currentColor\" x=\"1580\">de</tspan>\n",
              "    <tspan class=\"displacy-tag\" dy=\"2em\" fill=\"currentColor\" x=\"1580\">ADP</tspan>\n",
              "</text>\n",
              "\n",
              "<text class=\"displacy-token\" fill=\"currentColor\" text-anchor=\"middle\" y=\"182.0\">\n",
              "    <tspan class=\"displacy-word\" fill=\"currentColor\" x=\"1670\">Covid-19.</tspan>\n",
              "    <tspan class=\"displacy-tag\" dy=\"2em\" fill=\"currentColor\" x=\"1670\">PROPN</tspan>\n",
              "</text>\n",
              "\n",
              "<g class=\"displacy-arrow\">\n",
              "    <path class=\"displacy-arc\" id=\"arrow-22c73db6dbd445ff9e3f9da0b3076b8e-0-0\" stroke-width=\"2px\" d=\"M70,137.0 C70,92.0 130.0,92.0 130.0,137.0\" fill=\"none\" stroke=\"currentColor\"/>\n",
              "    <text dy=\"1.25em\" style=\"font-size: 0.8em; letter-spacing: 1px\">\n",
              "        <textPath xlink:href=\"#arrow-22c73db6dbd445ff9e3f9da0b3076b8e-0-0\" class=\"displacy-label\" startOffset=\"50%\" side=\"left\" fill=\"currentColor\" text-anchor=\"middle\">det</textPath>\n",
              "    </text>\n",
              "    <path class=\"displacy-arrowhead\" d=\"M70,139.0 L62,127.0 78,127.0\" fill=\"currentColor\"/>\n",
              "</g>\n",
              "\n",
              "<g class=\"displacy-arrow\">\n",
              "    <path class=\"displacy-arc\" id=\"arrow-22c73db6dbd445ff9e3f9da0b3076b8e-0-1\" stroke-width=\"2px\" d=\"M160,137.0 C160,2.0 410.0,2.0 410.0,137.0\" fill=\"none\" stroke=\"currentColor\"/>\n",
              "    <text dy=\"1.25em\" style=\"font-size: 0.8em; letter-spacing: 1px\">\n",
              "        <textPath xlink:href=\"#arrow-22c73db6dbd445ff9e3f9da0b3076b8e-0-1\" class=\"displacy-label\" startOffset=\"50%\" side=\"left\" fill=\"currentColor\" text-anchor=\"middle\">nsubj</textPath>\n",
              "    </text>\n",
              "    <path class=\"displacy-arrowhead\" d=\"M160,139.0 L152,127.0 168,127.0\" fill=\"currentColor\"/>\n",
              "</g>\n",
              "\n",
              "<g class=\"displacy-arrow\">\n",
              "    <path class=\"displacy-arc\" id=\"arrow-22c73db6dbd445ff9e3f9da0b3076b8e-0-2\" stroke-width=\"2px\" d=\"M160,137.0 C160,92.0 220.0,92.0 220.0,137.0\" fill=\"none\" stroke=\"currentColor\"/>\n",
              "    <text dy=\"1.25em\" style=\"font-size: 0.8em; letter-spacing: 1px\">\n",
              "        <textPath xlink:href=\"#arrow-22c73db6dbd445ff9e3f9da0b3076b8e-0-2\" class=\"displacy-label\" startOffset=\"50%\" side=\"left\" fill=\"currentColor\" text-anchor=\"middle\">flat</textPath>\n",
              "    </text>\n",
              "    <path class=\"displacy-arrowhead\" d=\"M220.0,139.0 L228.0,127.0 212.0,127.0\" fill=\"currentColor\"/>\n",
              "</g>\n",
              "\n",
              "<g class=\"displacy-arrow\">\n",
              "    <path class=\"displacy-arc\" id=\"arrow-22c73db6dbd445ff9e3f9da0b3076b8e-0-3\" stroke-width=\"2px\" d=\"M160,137.0 C160,47.0 315.0,47.0 315.0,137.0\" fill=\"none\" stroke=\"currentColor\"/>\n",
              "    <text dy=\"1.25em\" style=\"font-size: 0.8em; letter-spacing: 1px\">\n",
              "        <textPath xlink:href=\"#arrow-22c73db6dbd445ff9e3f9da0b3076b8e-0-3\" class=\"displacy-label\" startOffset=\"50%\" side=\"left\" fill=\"currentColor\" text-anchor=\"middle\">flat</textPath>\n",
              "    </text>\n",
              "    <path class=\"displacy-arrowhead\" d=\"M315.0,139.0 L323.0,127.0 307.0,127.0\" fill=\"currentColor\"/>\n",
              "</g>\n",
              "\n",
              "<g class=\"displacy-arrow\">\n",
              "    <path class=\"displacy-arc\" id=\"arrow-22c73db6dbd445ff9e3f9da0b3076b8e-0-4\" stroke-width=\"2px\" d=\"M430,137.0 C430,92.0 490.0,92.0 490.0,137.0\" fill=\"none\" stroke=\"currentColor\"/>\n",
              "    <text dy=\"1.25em\" style=\"font-size: 0.8em; letter-spacing: 1px\">\n",
              "        <textPath xlink:href=\"#arrow-22c73db6dbd445ff9e3f9da0b3076b8e-0-4\" class=\"displacy-label\" startOffset=\"50%\" side=\"left\" fill=\"currentColor\" text-anchor=\"middle\">advmod</textPath>\n",
              "    </text>\n",
              "    <path class=\"displacy-arrowhead\" d=\"M490.0,139.0 L498.0,127.0 482.0,127.0\" fill=\"currentColor\"/>\n",
              "</g>\n",
              "\n",
              "<g class=\"displacy-arrow\">\n",
              "    <path class=\"displacy-arc\" id=\"arrow-22c73db6dbd445ff9e3f9da0b3076b8e-0-5\" stroke-width=\"2px\" d=\"M610,137.0 C610,92.0 670.0,92.0 670.0,137.0\" fill=\"none\" stroke=\"currentColor\"/>\n",
              "    <text dy=\"1.25em\" style=\"font-size: 0.8em; letter-spacing: 1px\">\n",
              "        <textPath xlink:href=\"#arrow-22c73db6dbd445ff9e3f9da0b3076b8e-0-5\" class=\"displacy-label\" startOffset=\"50%\" side=\"left\" fill=\"currentColor\" text-anchor=\"middle\">det</textPath>\n",
              "    </text>\n",
              "    <path class=\"displacy-arrowhead\" d=\"M610,139.0 L602,127.0 618,127.0\" fill=\"currentColor\"/>\n",
              "</g>\n",
              "\n",
              "<g class=\"displacy-arrow\">\n",
              "    <path class=\"displacy-arc\" id=\"arrow-22c73db6dbd445ff9e3f9da0b3076b8e-0-6\" stroke-width=\"2px\" d=\"M430,137.0 C430,47.0 675.0,47.0 675.0,137.0\" fill=\"none\" stroke=\"currentColor\"/>\n",
              "    <text dy=\"1.25em\" style=\"font-size: 0.8em; letter-spacing: 1px\">\n",
              "        <textPath xlink:href=\"#arrow-22c73db6dbd445ff9e3f9da0b3076b8e-0-6\" class=\"displacy-label\" startOffset=\"50%\" side=\"left\" fill=\"currentColor\" text-anchor=\"middle\">obj</textPath>\n",
              "    </text>\n",
              "    <path class=\"displacy-arrowhead\" d=\"M675.0,139.0 L683.0,127.0 667.0,127.0\" fill=\"currentColor\"/>\n",
              "</g>\n",
              "\n",
              "<g class=\"displacy-arrow\">\n",
              "    <path class=\"displacy-arc\" id=\"arrow-22c73db6dbd445ff9e3f9da0b3076b8e-0-7\" stroke-width=\"2px\" d=\"M790,137.0 C790,92.0 850.0,92.0 850.0,137.0\" fill=\"none\" stroke=\"currentColor\"/>\n",
              "    <text dy=\"1.25em\" style=\"font-size: 0.8em; letter-spacing: 1px\">\n",
              "        <textPath xlink:href=\"#arrow-22c73db6dbd445ff9e3f9da0b3076b8e-0-7\" class=\"displacy-label\" startOffset=\"50%\" side=\"left\" fill=\"currentColor\" text-anchor=\"middle\">case</textPath>\n",
              "    </text>\n",
              "    <path class=\"displacy-arrowhead\" d=\"M790,139.0 L782,127.0 798,127.0\" fill=\"currentColor\"/>\n",
              "</g>\n",
              "\n",
              "<g class=\"displacy-arrow\">\n",
              "    <path class=\"displacy-arc\" id=\"arrow-22c73db6dbd445ff9e3f9da0b3076b8e-0-8\" stroke-width=\"2px\" d=\"M700,137.0 C700,47.0 855.0,47.0 855.0,137.0\" fill=\"none\" stroke=\"currentColor\"/>\n",
              "    <text dy=\"1.25em\" style=\"font-size: 0.8em; letter-spacing: 1px\">\n",
              "        <textPath xlink:href=\"#arrow-22c73db6dbd445ff9e3f9da0b3076b8e-0-8\" class=\"displacy-label\" startOffset=\"50%\" side=\"left\" fill=\"currentColor\" text-anchor=\"middle\">nmod</textPath>\n",
              "    </text>\n",
              "    <path class=\"displacy-arrowhead\" d=\"M855.0,139.0 L863.0,127.0 847.0,127.0\" fill=\"currentColor\"/>\n",
              "</g>\n",
              "\n",
              "<g class=\"displacy-arrow\">\n",
              "    <path class=\"displacy-arc\" id=\"arrow-22c73db6dbd445ff9e3f9da0b3076b8e-0-9\" stroke-width=\"2px\" d=\"M880,137.0 C880,92.0 940.0,92.0 940.0,137.0\" fill=\"none\" stroke=\"currentColor\"/>\n",
              "    <text dy=\"1.25em\" style=\"font-size: 0.8em; letter-spacing: 1px\">\n",
              "        <textPath xlink:href=\"#arrow-22c73db6dbd445ff9e3f9da0b3076b8e-0-9\" class=\"displacy-label\" startOffset=\"50%\" side=\"left\" fill=\"currentColor\" text-anchor=\"middle\">appos</textPath>\n",
              "    </text>\n",
              "    <path class=\"displacy-arrowhead\" d=\"M940.0,139.0 L948.0,127.0 932.0,127.0\" fill=\"currentColor\"/>\n",
              "</g>\n",
              "\n",
              "<g class=\"displacy-arrow\">\n",
              "    <path class=\"displacy-arc\" id=\"arrow-22c73db6dbd445ff9e3f9da0b3076b8e-0-10\" stroke-width=\"2px\" d=\"M1060,137.0 C1060,47.0 1215.0,47.0 1215.0,137.0\" fill=\"none\" stroke=\"currentColor\"/>\n",
              "    <text dy=\"1.25em\" style=\"font-size: 0.8em; letter-spacing: 1px\">\n",
              "        <textPath xlink:href=\"#arrow-22c73db6dbd445ff9e3f9da0b3076b8e-0-10\" class=\"displacy-label\" startOffset=\"50%\" side=\"left\" fill=\"currentColor\" text-anchor=\"middle\">case</textPath>\n",
              "    </text>\n",
              "    <path class=\"displacy-arrowhead\" d=\"M1060,139.0 L1052,127.0 1068,127.0\" fill=\"currentColor\"/>\n",
              "</g>\n",
              "\n",
              "<g class=\"displacy-arrow\">\n",
              "    <path class=\"displacy-arc\" id=\"arrow-22c73db6dbd445ff9e3f9da0b3076b8e-0-11\" stroke-width=\"2px\" d=\"M1150,137.0 C1150,92.0 1210.0,92.0 1210.0,137.0\" fill=\"none\" stroke=\"currentColor\"/>\n",
              "    <text dy=\"1.25em\" style=\"font-size: 0.8em; letter-spacing: 1px\">\n",
              "        <textPath xlink:href=\"#arrow-22c73db6dbd445ff9e3f9da0b3076b8e-0-11\" class=\"displacy-label\" startOffset=\"50%\" side=\"left\" fill=\"currentColor\" text-anchor=\"middle\">det</textPath>\n",
              "    </text>\n",
              "    <path class=\"displacy-arrowhead\" d=\"M1150,139.0 L1142,127.0 1158,127.0\" fill=\"currentColor\"/>\n",
              "</g>\n",
              "\n",
              "<g class=\"displacy-arrow\">\n",
              "    <path class=\"displacy-arc\" id=\"arrow-22c73db6dbd445ff9e3f9da0b3076b8e-0-12\" stroke-width=\"2px\" d=\"M970,137.0 C970,2.0 1220.0,2.0 1220.0,137.0\" fill=\"none\" stroke=\"currentColor\"/>\n",
              "    <text dy=\"1.25em\" style=\"font-size: 0.8em; letter-spacing: 1px\">\n",
              "        <textPath xlink:href=\"#arrow-22c73db6dbd445ff9e3f9da0b3076b8e-0-12\" class=\"displacy-label\" startOffset=\"50%\" side=\"left\" fill=\"currentColor\" text-anchor=\"middle\">nmod</textPath>\n",
              "    </text>\n",
              "    <path class=\"displacy-arrowhead\" d=\"M1220.0,139.0 L1228.0,127.0 1212.0,127.0\" fill=\"currentColor\"/>\n",
              "</g>\n",
              "\n",
              "<g class=\"displacy-arrow\">\n",
              "    <path class=\"displacy-arc\" id=\"arrow-22c73db6dbd445ff9e3f9da0b3076b8e-0-13\" stroke-width=\"2px\" d=\"M1330,137.0 C1330,92.0 1390.0,92.0 1390.0,137.0\" fill=\"none\" stroke=\"currentColor\"/>\n",
              "    <text dy=\"1.25em\" style=\"font-size: 0.8em; letter-spacing: 1px\">\n",
              "        <textPath xlink:href=\"#arrow-22c73db6dbd445ff9e3f9da0b3076b8e-0-13\" class=\"displacy-label\" startOffset=\"50%\" side=\"left\" fill=\"currentColor\" text-anchor=\"middle\">case</textPath>\n",
              "    </text>\n",
              "    <path class=\"displacy-arrowhead\" d=\"M1330,139.0 L1322,127.0 1338,127.0\" fill=\"currentColor\"/>\n",
              "</g>\n",
              "\n",
              "<g class=\"displacy-arrow\">\n",
              "    <path class=\"displacy-arc\" id=\"arrow-22c73db6dbd445ff9e3f9da0b3076b8e-0-14\" stroke-width=\"2px\" d=\"M1240,137.0 C1240,47.0 1395.0,47.0 1395.0,137.0\" fill=\"none\" stroke=\"currentColor\"/>\n",
              "    <text dy=\"1.25em\" style=\"font-size: 0.8em; letter-spacing: 1px\">\n",
              "        <textPath xlink:href=\"#arrow-22c73db6dbd445ff9e3f9da0b3076b8e-0-14\" class=\"displacy-label\" startOffset=\"50%\" side=\"left\" fill=\"currentColor\" text-anchor=\"middle\">nmod</textPath>\n",
              "    </text>\n",
              "    <path class=\"displacy-arrowhead\" d=\"M1395.0,139.0 L1403.0,127.0 1387.0,127.0\" fill=\"currentColor\"/>\n",
              "</g>\n",
              "\n",
              "<g class=\"displacy-arrow\">\n",
              "    <path class=\"displacy-arc\" id=\"arrow-22c73db6dbd445ff9e3f9da0b3076b8e-0-15\" stroke-width=\"2px\" d=\"M1420,137.0 C1420,92.0 1480.0,92.0 1480.0,137.0\" fill=\"none\" stroke=\"currentColor\"/>\n",
              "    <text dy=\"1.25em\" style=\"font-size: 0.8em; letter-spacing: 1px\">\n",
              "        <textPath xlink:href=\"#arrow-22c73db6dbd445ff9e3f9da0b3076b8e-0-15\" class=\"displacy-label\" startOffset=\"50%\" side=\"left\" fill=\"currentColor\" text-anchor=\"middle\">appos</textPath>\n",
              "    </text>\n",
              "    <path class=\"displacy-arrowhead\" d=\"M1480.0,139.0 L1488.0,127.0 1472.0,127.0\" fill=\"currentColor\"/>\n",
              "</g>\n",
              "\n",
              "<g class=\"displacy-arrow\">\n",
              "    <path class=\"displacy-arc\" id=\"arrow-22c73db6dbd445ff9e3f9da0b3076b8e-0-16\" stroke-width=\"2px\" d=\"M1600,137.0 C1600,92.0 1660.0,92.0 1660.0,137.0\" fill=\"none\" stroke=\"currentColor\"/>\n",
              "    <text dy=\"1.25em\" style=\"font-size: 0.8em; letter-spacing: 1px\">\n",
              "        <textPath xlink:href=\"#arrow-22c73db6dbd445ff9e3f9da0b3076b8e-0-16\" class=\"displacy-label\" startOffset=\"50%\" side=\"left\" fill=\"currentColor\" text-anchor=\"middle\">case</textPath>\n",
              "    </text>\n",
              "    <path class=\"displacy-arrowhead\" d=\"M1600,139.0 L1592,127.0 1608,127.0\" fill=\"currentColor\"/>\n",
              "</g>\n",
              "\n",
              "<g class=\"displacy-arrow\">\n",
              "    <path class=\"displacy-arc\" id=\"arrow-22c73db6dbd445ff9e3f9da0b3076b8e-0-17\" stroke-width=\"2px\" d=\"M1510,137.0 C1510,47.0 1665.0,47.0 1665.0,137.0\" fill=\"none\" stroke=\"currentColor\"/>\n",
              "    <text dy=\"1.25em\" style=\"font-size: 0.8em; letter-spacing: 1px\">\n",
              "        <textPath xlink:href=\"#arrow-22c73db6dbd445ff9e3f9da0b3076b8e-0-17\" class=\"displacy-label\" startOffset=\"50%\" side=\"left\" fill=\"currentColor\" text-anchor=\"middle\">nmod</textPath>\n",
              "    </text>\n",
              "    <path class=\"displacy-arrowhead\" d=\"M1665.0,139.0 L1673.0,127.0 1657.0,127.0\" fill=\"currentColor\"/>\n",
              "</g>\n",
              "</svg></span>"
            ]
          },
          "metadata": {}
        }
      ],
      "source": [
        "doc = nlp('El Presidente Xi Jinping realizó ayer un visita a Wuhan, capital de la provincia de Hubei, cuna de Covid-19.')\n",
        "displacy.render(doc, style=\"dep\", jupyter=True, options={'distance':90})"
      ]
    },
    {
      "cell_type": "markdown",
      "metadata": {
        "id": "moj_ywiYtvL7"
      },
      "source": [
        "También podemos recuperar los tokens y mostrarlos"
      ]
    },
    {
      "cell_type": "code",
      "execution_count": null,
      "metadata": {
        "id": "7tocxUpStvMD",
        "outputId": "9b5e2f22-35a4-4934-bb72-a39cca3eb764",
        "colab": {
          "base_uri": "https://localhost:8080/"
        }
      },
      "outputs": [
        {
          "output_type": "stream",
          "name": "stdout",
          "text": [
            "El DET Presidente\n",
            "Presidente NSUBJ realizó\n",
            "Xi FLAT Presidente\n",
            "Jinping FLAT Presidente\n",
            "realizó ROOT realizó\n",
            "ayer ADVMOD realizó\n",
            "un DET visita\n",
            "visita OBJ realizó\n",
            "a CASE Wuhan\n",
            "Wuhan NMOD visita\n",
            ", PUNCT capital\n",
            "capital APPOS Wuhan\n",
            "de CASE provincia\n",
            "la DET provincia\n",
            "provincia NMOD capital\n",
            "de CASE Hubei\n",
            "Hubei NMOD provincia\n",
            ", PUNCT cuna\n",
            "cuna APPOS Hubei\n",
            "de CASE Covid-19\n",
            "Covid-19 NMOD cuna\n",
            ". PUNCT realizó\n"
          ]
        }
      ],
      "source": [
        "for token in doc:\n",
        "    print(token, token.dep_.upper(), token.head)"
      ]
    },
    {
      "cell_type": "markdown",
      "metadata": {
        "id": "5bB7sW2gtvME"
      },
      "source": [
        "Los siguientes atributos pueden utilizarse para recorrer el árbol de relaciones:\n",
        "- `children` todos los tokens dependientes del token\n",
        "- `subtree`: todos los descendientes del token\n",
        "- `ancestors` todos los padres del token\n",
        "- `rights` todos los hijos a la derecha del token\n",
        "- `lefts` los hijos a la izquierda del token"
      ]
    },
    {
      "cell_type": "markdown",
      "metadata": {
        "id": "ifY2VTLjtvMF"
      },
      "source": [
        "La tripleta sujeto-verbo-objeto puede extraerse de la frase anterior de la siguiente manera:"
      ]
    },
    {
      "cell_type": "code",
      "execution_count": null,
      "metadata": {
        "id": "XBrdOrSJtvMH",
        "outputId": "a2fcbc14-46e7-4372-aec3-bfc8f345e21a",
        "colab": {
          "base_uri": "https://localhost:8080/"
        }
      },
      "outputs": [
        {
          "output_type": "execute_result",
          "data": {
            "text/plain": [
              "(Presidente, realizó, visita)"
            ]
          },
          "metadata": {},
          "execution_count": 27
        }
      ],
      "source": [
        "root = [token for token in doc if token.head == token][0]\n",
        "subjects = [tok for tok in root.lefts if tok.dep_ == \"nsubj\"]\n",
        "subject = subjects[0]\n",
        "objs = [tok for tok in root.rights if tok.dep_ == \"obj\"]\n",
        "obj = objs[0]\n",
        "subject, root, obj"
      ]
    },
    {
      "cell_type": "markdown",
      "metadata": {
        "id": "85UXdUYNtvMN"
      },
      "source": [
        "## Matching"
      ]
    },
    {
      "cell_type": "markdown",
      "metadata": {
        "id": "Gyaui2A8tvMN"
      },
      "source": [
        "## 1. Matching por regla"
      ]
    },
    {
      "cell_type": "markdown",
      "metadata": {
        "id": "2bKU2BGftvMO"
      },
      "source": [
        "Spacy tiene una clase `Matcher` que se puede utilizar para identificar tokens o secuencias de tokens utilizando patrones (*pattern*). Estos patrones pueden referirse a la forma de los tokens o a sus atributos (pos, ent). También se pueden utilizar categorías como `IS_ALPHA` o `IS_NUM`, véase [doc](https://spacy.io/usage/rule-based-matching#adding-patterns-attributes)"
      ]
    },
    {
      "cell_type": "code",
      "execution_count": null,
      "metadata": {
        "id": "c7ckkXkTtvMO",
        "outputId": "b381454e-e40d-4946-ab49-eaee49a8c9cc",
        "colab": {
          "base_uri": "https://localhost:8080/"
        }
      },
      "outputs": [
        {
          "output_type": "stream",
          "name": "stdout",
          "text": [
            "5 8 en talla M\n"
          ]
        }
      ],
      "source": [
        "from spacy.matcher import Matcher\n",
        "\n",
        "doc = nlp(\"Este modelo también está disponible en talla M, lo recomiendo.\")\n",
        "\n",
        "matcher = Matcher(nlp.vocab)\n",
        "pattern = [{\"LOWER\": \"en\"}, {\"LOWER\": \"talla\"}, {\"IS_ALPHA\": True, \"IS_UPPER\": True}]\n",
        "matcher.add(\"tailles\", [pattern])\n",
        "\n",
        "matches = matcher(doc)\n",
        "for _, start, end in matches:\n",
        "    #string_id = nlp.vocab.strings[match_id]  # Get string representation\n",
        "    span = doc[start:end]  # The matched span\n",
        "    print(start, end, span.text)"
      ]
    },
    {
      "cell_type": "code",
      "execution_count": null,
      "metadata": {
        "id": "_o_X6f10tvMR"
      },
      "outputs": [],
      "source": [
        "doc = nlp(\"¿lo tiene en XL?\")\n",
        "matches = matcher(doc)\n",
        "for match_id, start, end in matches:\n",
        "    string_id = nlp.vocab.strings[match_id]  # Get string representation\n",
        "    span = doc[start:end]  # The matched span\n",
        "    print(match_id, string_id, start, end, span.text)"
      ]
    },
    {
      "cell_type": "markdown",
      "metadata": {
        "id": "EoNcmlS2tvMS"
      },
      "source": [
        "Podemos intentar mejorar las reglas:"
      ]
    },
    {
      "cell_type": "code",
      "execution_count": null,
      "metadata": {
        "id": "aPCU9fR6tvMU",
        "outputId": "85f8e144-e26a-47db-ded4-c8cbe4dec07f",
        "colab": {
          "base_uri": "https://localhost:8080/"
        }
      },
      "outputs": [
        {
          "output_type": "stream",
          "name": "stdout",
          "text": [
            "en XL\n"
          ]
        }
      ],
      "source": [
        "matcher = Matcher(nlp.vocab)\n",
        "pattern_1 = [{\"LOWER\": \"en\"}, {\"LOWER\": \"taille\"}, {\"IS_ALPHA\": True, \"IS_UPPER\": True}]\n",
        "pattern_2 = [{\"LOWER\": \"en\"}, {\"IS_ALPHA\": True, \"IS_UPPER\": True}]\n",
        "matcher.add(\"tailles\", [pattern_1, pattern_2])\n",
        "# règle avec deux patterns\n",
        "\n",
        "doc = nlp(\"¿lo tiene en XL?\")\n",
        "matches = matcher(doc)\n",
        "for _, start, end in matches:\n",
        "    #string_id = nlp.vocab.strings[match_id]  # Get string representation\n",
        "    span = doc[start:end]  # The matched span\n",
        "    print(span.text)"
      ]
    },
    {
      "cell_type": "markdown",
      "metadata": {
        "id": "ubYhucVXtvMW"
      },
      "source": [
        "Ou encore :"
      ]
    },
    {
      "cell_type": "code",
      "execution_count": null,
      "metadata": {
        "id": "i4dFO35HtvMX",
        "outputId": "29c5b263-67ff-4d02-ce3a-60c0b3ef7cb7",
        "colab": {
          "base_uri": "https://localhost:8080/"
        }
      },
      "outputs": [
        {
          "output_type": "stream",
          "name": "stdout",
          "text": [
            "tailles 3 5 en L\n"
          ]
        }
      ],
      "source": [
        "matcher = Matcher(nlp.vocab)\n",
        "sizes = ['XS', 'S', 'M', 'L', 'XL']\n",
        "pattern_1 = [{\"LOWER\": \"en\"}, {\"LOWER\": \"taille\"}, {\"TEXT\": {\"IN\": sizes}}]\n",
        "pattern_2 = [{\"LOWER\": \"en\"}, {\"TEXT\": {\"IN\": sizes}}]\n",
        "matcher.add(\"tailles\", [pattern_1, pattern_2])\n",
        "# règle avec deux patterns\n",
        "\n",
        "doc = nlp(\"¿lo tiene en L?\")\n",
        "matches = matcher(doc)\n",
        "for match_id, start, end in matches:\n",
        "    string_id = nlp.vocab.strings[match_id]  # Get string representation\n",
        "    span = doc[start:end]  # The matched span\n",
        "    print(string_id, start, end, span.text)"
      ]
    },
    {
      "cell_type": "markdown",
      "metadata": {
        "id": "Xrw6LpqMtvMb"
      },
      "source": [
        "Desde la v3, Spacy ha añadido un *Dependancy Matcher* que permite extraer patrones sintácticos. Ahora es posible consultar el árbol sintáctico y no sólo la secuencia de tokens.  \n",
        "Este sistema utiliza [Semgrex](https://nlp.stanford.edu/nlp/javadoc/javanlp/edu/stanford/nlp/semgraph/semgrex/SemgrexPattern.html), la sintaxis utilizada en Tgrep y Tregex, las herramientas de consulta del Treebank de Stanford.\n",
        "\n",
        "[Documentación](https://spacy.io/usage/rule-based-matching#dependencymatcher)"
      ]
    }
  ],
  "metadata": {
    "kernelspec": {
      "display_name": "Python 3 (ipykernel)",
      "language": "python",
      "name": "python3"
    },
    "language_info": {
      "codemirror_mode": {
        "name": "ipython",
        "version": 3
      },
      "file_extension": ".py",
      "mimetype": "text/x-python",
      "name": "python",
      "nbconvert_exporter": "python",
      "pygments_lexer": "ipython3",
      "version": "3.9.10"
    },
    "colab": {
      "provenance": []
    }
  },
  "nbformat": 4,
  "nbformat_minor": 0
}